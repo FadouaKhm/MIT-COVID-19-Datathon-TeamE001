{
  "nbformat": 4,
  "nbformat_minor": 0,
  "metadata": {
    "colab": {
      "name": "covid_Hackthon.ipynb",
      "provenance": [],
      "collapsed_sections": []
    },
    "kernelspec": {
      "name": "python3",
      "display_name": "Python 3"
    }
  },
  "cells": [
    {
      "cell_type": "markdown",
      "metadata": {
        "id": "gP2QhWBXWnw5",
        "colab_type": "text"
      },
      "source": [
        "# How Many Confirmed Cases Are Near Me?\n",
        "### Goal:\n",
        "Visualize the historical change of covid-19 in NYC. \n",
        "\n",
        "\n",
        "###Requirement:\n",
        "Run following code inside folder \"COVID_Zipcode_NYC\" <br>\n",
        "`!git clone https://github.com/nychealth/coronavirus-data.git`\n",
        "\n",
        "\n",
        "\n",
        "*Note: Code is designed to run on Google Colab*"
      ]
    },
    {
      "cell_type": "markdown",
      "metadata": {
        "id": "aaQssa9zXQNM",
        "colab_type": "text"
      },
      "source": [
        "## Connect to Google Drive and Load in Package"
      ]
    },
    {
      "cell_type": "code",
      "metadata": {
        "id": "wFYuie_IyioF",
        "colab_type": "code",
        "colab": {}
      },
      "source": [
        "from google.colab import drive\n",
        "drive.mount('/content/drive')"
      ],
      "execution_count": 0,
      "outputs": []
    },
    {
      "cell_type": "code",
      "metadata": {
        "id": "j7mn0ySG4rVf",
        "colab_type": "code",
        "colab": {}
      },
      "source": [
        "!pip install geopandas"
      ],
      "execution_count": 0,
      "outputs": []
    },
    {
      "cell_type": "code",
      "metadata": {
        "id": "v_l8PUhP5JMW",
        "colab_type": "code",
        "colab": {}
      },
      "source": [
        "import json\n",
        "from bokeh.io import show, output_file, save\n",
        "from bokeh.models import (CDSView, ColorBar, ColumnDataSource,\n",
        "                          CustomJS, CustomJSFilter, NumeralTickFormatter,\n",
        "                          GeoJSONDataSource, HoverTool,LogColorMapper,\n",
        "                          LinearColorMapper, Slider, LogTicker)\n",
        "from bokeh.layouts import column, row, widgetbox\n",
        "from bokeh.palettes import brewer\n",
        "from bokeh.plotting import figure, save\n",
        "import bokeh.plotting as bop\n",
        "\n",
        "import numpy as np\n",
        "import pandas as pd\n",
        "from datetime import datetime\n",
        "\n",
        "import geopandas as gpd\n"
      ],
      "execution_count": 0,
      "outputs": []
    },
    {
      "cell_type": "markdown",
      "metadata": {
        "id": "xiy2svuOXevC",
        "colab_type": "text"
      },
      "source": [
        "## Read in Data\n",
        "- Covid Data from \"data\" folder\n",
        "- Shapre file from \"coronavirus-data\" folder"
      ]
    },
    {
      "cell_type": "code",
      "metadata": {
        "id": "mR6tR_I34-I4",
        "colab_type": "code",
        "colab": {}
      },
      "source": [
        "%cd drive/My\\ Drive/DATATHON/"
      ],
      "execution_count": 0,
      "outputs": []
    },
    {
      "cell_type": "code",
      "metadata": {
        "id": "xBaOu4R66M3D",
        "colab_type": "code",
        "colab": {}
      },
      "source": [
        "## read in covid data\n",
        "file_ls = []\n",
        "for k in range(12, 31):\n",
        "  date = \"0\"+str(k) if len(str(k))==1 else str(k)\n",
        "  file_nm = 'data/COVID_data/4_' + date +\".csv\"\n",
        "  file_ls.append(file_nm)\n",
        "\n",
        "for k in range(1, 13):\n",
        "  date = \"0\"+str(k) if len(str(k))==1 else str(k)\n",
        "  file_nm = 'data/COVID_data/5_' + date +\".csv\"\n",
        "  file_ls.append(file_nm)\n",
        "print(len(file_ls), file_ls)\n",
        "\n",
        "\n",
        "covid_df_all = None\n",
        "\n",
        "for i, file_path in enumerate(file_ls):\n",
        "    covid_df = pd.read_csv(file_path)\n",
        "    covid_df['MODZCTA'] = covid_df['MODZCTA'].astype('str').str.slice(0,-2)\n",
        "    covid_df['date'] = i+1\n",
        "\n",
        "    try:\n",
        "      covid_df_all = pd.concat([covid_df_all, covid_df])\n",
        "    except Exception:\n",
        "      covid_df_all = covid_df.copy()\n",
        "covid_df_all = covid_df_all.reset_index(drop=True)\n"
      ],
      "execution_count": 0,
      "outputs": []
    },
    {
      "cell_type": "code",
      "metadata": {
        "id": "h2A-Qr1Y5c4o",
        "colab_type": "code",
        "colab": {}
      },
      "source": [
        "# Read in shapefile and examine data\n",
        "contiguous_nyc = gpd.read_file('coronavirus-data/Geography-resources/MODZCTA_2010.shp', SHAPE_RESTORE_SHX=True)\n",
        "contiguous_nyc['MODZCTA'] = contiguous_nyc['MODZCTA'].astype('str')\n",
        "contiguous_nyc.head(1)"
      ],
      "execution_count": 0,
      "outputs": []
    },
    {
      "cell_type": "markdown",
      "metadata": {
        "id": "onbzF-aeX-th",
        "colab_type": "text"
      },
      "source": [
        "## Process Data\n",
        "- assign level by number of positive cases\n",
        "- convert POLYGEN object to XY coordinate"
      ]
    },
    {
      "cell_type": "code",
      "metadata": {
        "id": "X8S72So0AA2u",
        "colab_type": "code",
        "colab": {}
      },
      "source": [
        "def split_level(x):\n",
        "  if x<478:\n",
        "    return 0\n",
        "  if x <818:\n",
        "    return 1\n",
        "  if x<1430:\n",
        "    return 2\n",
        "  else:\n",
        "    return 3\n",
        "\n",
        "data = pd.merge(contiguous_nyc, covid_df_all, how='left')\n",
        "data['category'] = data.Positive.apply(lambda x: split_level(x))"
      ],
      "execution_count": 0,
      "outputs": []
    },
    {
      "cell_type": "code",
      "metadata": {
        "id": "0x6Y7olGVuMw",
        "colab_type": "code",
        "colab": {}
      },
      "source": [
        "# reference: https://automating-gis-processes.github.io/CSC18/lessons/L5/advanced-bokeh.html\n",
        "def getXYCoords(geometry, coord_type):\n",
        "    \"\"\" Returns either x or y coordinates from  geometry coordinate sequence. Used with LineString and Polygon geometries.\"\"\"\n",
        "    if coord_type == 'x':\n",
        "        return geometry.coords.xy[0]\n",
        "    elif coord_type == 'y':\n",
        "        return geometry.coords.xy[1]\n",
        "\n",
        "def getPolyCoords(geometry, coord_type):\n",
        "    \"\"\" Returns Coordinates of Polygon using the Exterior of the Polygon.\"\"\"\n",
        "    ext = geometry.exterior\n",
        "    return getXYCoords(ext, coord_type)\n",
        "\n",
        "def getLineCoords(geometry, coord_type):\n",
        "    \"\"\" Returns Coordinates of Linestring object.\"\"\"\n",
        "    return getXYCoords(geometry, coord_type)\n",
        "\n",
        "def getPointCoords(geometry, coord_type):\n",
        "    \"\"\" Returns Coordinates of Point object.\"\"\"\n",
        "    if coord_type == 'x':\n",
        "        return geometry.x\n",
        "    elif coord_type == 'y':\n",
        "        return geometry.y\n",
        "\n",
        "def multiGeomHandler(multi_geometry, coord_type, geom_type):\n",
        "    \"\"\"\n",
        "    Function for handling multi-geometries. Can be MultiPoint, MultiLineString or MultiPolygon.\n",
        "    Returns a list of coordinates where all parts of Multi-geometries are merged into a single list.\n",
        "    \"\"\"\n",
        "\n",
        "    for i, part in enumerate(multi_geometry):\n",
        "        # On the first part of the Multi-geometry initialize the coord_array (np.array)\n",
        "        if i == 0:\n",
        "            if geom_type == \"MultiPoint\":\n",
        "                coord_arrays = np.append(getPointCoords(part, coord_type), np.nan)\n",
        "            elif geom_type == \"MultiLineString\":\n",
        "                coord_arrays = np.append(getLineCoords(part, coord_type), np.nan)\n",
        "            elif geom_type == \"MultiPolygon\":\n",
        "                coord_arrays = np.append(getPolyCoords(part, coord_type), np.nan)\n",
        "        else:\n",
        "            if geom_type == \"MultiPoint\":\n",
        "                coord_arrays = np.concatenate([coord_arrays, np.append(getPointCoords(part, coord_type), np.nan)])\n",
        "            elif geom_type == \"MultiLineString\":\n",
        "                coord_arrays = np.concatenate([coord_arrays, np.append(getLineCoords(part, coord_type), np.nan)])\n",
        "            elif geom_type == \"MultiPolygon\":\n",
        "                coord_arrays = np.concatenate([coord_arrays, np.append(getPolyCoords(part, coord_type), np.nan)])\n",
        "\n",
        "    # Return the coordinates\n",
        "    return coord_arrays\n",
        "\n",
        "\n",
        "def getCoords(row, geom_col, coord_type):\n",
        "    \"\"\"\n",
        "    Returns coordinates ('x' or 'y') of a geometry (Point, LineString or Polygon) as a list (if geometry is LineString or Polygon).\n",
        "    Can handle also MultiGeometries.\n",
        "    \"\"\"\n",
        "    # Get geometry\n",
        "    geom = row[geom_col]\n",
        "\n",
        "    # Check the geometry type\n",
        "    gtype = geom.geom_type\n",
        "\n",
        "    # \"Normal\" geometries\n",
        "    # -------------------\n",
        "\n",
        "    if gtype == \"Point\":\n",
        "        return getPointCoords(geom, coord_type)\n",
        "    elif gtype == \"LineString\":\n",
        "        return list( getLineCoords(geom, coord_type) )\n",
        "    elif gtype == \"Polygon\":\n",
        "        return list( getPolyCoords(geom, coord_type) )\n",
        "\n",
        "    # Multi geometries\n",
        "    # ----------------\n",
        "\n",
        "    else:\n",
        "        return list( multiGeomHandler(geom, coord_type, gtype) )"
      ],
      "execution_count": 0,
      "outputs": []
    },
    {
      "cell_type": "code",
      "metadata": {
        "id": "P_ypeR75ZEmG",
        "colab_type": "code",
        "colab": {}
      },
      "source": [
        "data['x'] = data.apply(getCoords, geom_col=\"geometry\", coord_type=\"x\", axis=1)\n",
        "data['y'] = data.apply(getCoords, geom_col=\"geometry\", coord_type=\"y\", axis=1)\n",
        "\n",
        "\n",
        "sitesource = ColumnDataSource({'x': np.array(data['x'].apply(lambda x: np.array(x))), \n",
        "                               'y': np.array(data['y'].apply(lambda x: np.array(x))),\n",
        "                               'category': data['category'].values,\n",
        "                               'date': data['date'].values,\n",
        "                               'zipcode': data['MODZCTA'].values,\n",
        "                               'positive': data['Positive'].values})"
      ],
      "execution_count": 0,
      "outputs": []
    },
    {
      "cell_type": "markdown",
      "metadata": {
        "id": "OXzuf7qdYR5D",
        "colab_type": "text"
      },
      "source": [
        "## Draw Interactive Plot in Bokeh\n",
        "- define slider\n",
        "- plot patches and colored by covid cases number\n",
        "- show plot in notebook\n",
        "- save \"html\" in given location"
      ]
    },
    {
      "cell_type": "code",
      "metadata": {
        "id": "PGBQ-XYcLjf8",
        "colab_type": "code",
        "colab": {}
      },
      "source": [
        "# Make a slider object to toggle the day shown\n",
        "slider = Slider(title = 'Date', \n",
        "                start = 1, end = 31, \n",
        "                step = 3, value = 1)\n",
        "\n",
        "# This callback triggers the filter when the slider changes\n",
        "callback = CustomJS(args = dict(source=sitesource), \n",
        "                    code = \"\"\"source.change.emit();\"\"\")\n",
        "slider.js_on_change('value', callback)\n",
        "# Creates custom filter that selects the rows of the month based on the value in the slider\n",
        "custom_filter = CustomJSFilter(args = dict(slider = slider, \n",
        "                                           source = sitesource), \n",
        "                               code = \"\"\"\n",
        "                                  var indices = [];\n",
        "                                  // iterate through rows of data source and see if each satisfies some constraint\n",
        "                                  for (var i = 0; i < source.get_length(); i++){\n",
        "                                  if (source.data['date'][i] == slider.value){\n",
        "                                  indices.push(true);\n",
        "                                  } else {\n",
        "                                  indices.push(false);\n",
        "                                  }\n",
        "                                  }\n",
        "                                  return indices;\n",
        "                                  \"\"\")\n",
        "# Uses custom_filter to determine which set of sites are visible\n",
        "view = CDSView(source = sitesource, filters = [custom_filter])"
      ],
      "execution_count": 0,
      "outputs": []
    },
    {
      "cell_type": "code",
      "metadata": {
        "id": "w_S_bgRO5-YG",
        "colab_type": "code",
        "colab": {}
      },
      "source": [
        "# Define color palettes\n",
        "palette = brewer['Reds'][4] \n",
        "palette = palette[::-1] # reverse order of colors so higher values have darker colors\n",
        "\n",
        "# Instantiate LinearColorMapper that linearly maps numbers in a range, into a sequence of colors.\n",
        "color_mapper = LinearColorMapper(palette = palette, low = 0, high = 4)\n",
        "\n",
        " # Create color bar.\n",
        "tick_labels = {'0':'','0.5':'23-478','1':'','1.5':'478-818',\n",
        "               '2':'','2.5':'818-1430','3':'','3.5':'1430-4054',\n",
        "                '4':''}\n",
        "color_bar = ColorBar(color_mapper = color_mapper, \n",
        "                     label_standoff = 10,\n",
        "                     width = 15, height = 250,\n",
        "                     border_line_color = None,\n",
        "                     location = (0,0), \n",
        "                     orientation = 'vertical',\n",
        "                     major_label_overrides = tick_labels)\n",
        "\n",
        "# Create figure object.\n",
        "p = bop.figure(title = 'NYC Covid Positive Cases 4/12 ~ 5/12', \n",
        "           plot_height = 500 ,\n",
        "           plot_width = 550, \n",
        "           toolbar_location = 'below',\n",
        "           tools = \"pan, wheel_zoom, box_zoom, reset, save\")\n",
        "p.xgrid.grid_line_color = None\n",
        "p.ygrid.grid_line_color = None\n",
        "\n",
        "# Add patch renderer to figure.\n",
        "states = p.patches('x','y', source = sitesource, view=view,\n",
        "                   fill_color = {'field':'category',\n",
        "                                 'transform':color_mapper},\n",
        "                   line_color = \"gray\", \n",
        "                   line_width = 0.25, \n",
        "                   fill_alpha = 1)\n",
        "# Create hover tool\n",
        "p.add_tools(HoverTool(renderers = [states],\n",
        "                      tooltips = [('Zipcode','@zipcode'),\n",
        "                                  ('Positive Cases','@positive')]))\n",
        "p.add_layout(color_bar, 'right')\n",
        "p = column(p, widgetbox(slider))\n",
        "\n",
        "try:\n",
        "    bop.reset_output()\n",
        "    print(\"Reset\")\n",
        "    bop.output_notebook()\n",
        "    print(\"NOTEBOOK\")\n",
        "    bop.show(p)  \n",
        "    print(\"PLOT\")\n",
        "    \n",
        "except:\n",
        "    print(\"ERROR\")\n",
        "    bop.output_notebook()\n",
        "    bop.show(p)  \n",
        "    \n",
        "    \n",
        "  "
      ],
      "execution_count": 0,
      "outputs": []
    },
    {
      "cell_type": "code",
      "metadata": {
        "id": "s-IIPKAIQd8g",
        "colab_type": "code",
        "colab": {}
      },
      "source": [
        "# Output filepath to HTML\n",
        "output_file = r\"./visualization/map_NYC.html\"\n",
        "try:\n",
        "    bop.reset_output()\n",
        "    print(\"Reset\")\n",
        "    bop.output_notebook()\n",
        "    # Save the map\n",
        "    bop.save(p, output_file)\n",
        "    print(\"SAVE\")\n",
        "    \n",
        "except:\n",
        "    print(\"ERROR\")\n",
        "    bop.output_notebook()\n",
        "    # Save the map\n",
        "    bop.save(p, output_file)\n",
        "    print(\"NOTEBOOK\")\n",
        "    \n",
        "    \n"
      ],
      "execution_count": 0,
      "outputs": []
    }
  ]
}